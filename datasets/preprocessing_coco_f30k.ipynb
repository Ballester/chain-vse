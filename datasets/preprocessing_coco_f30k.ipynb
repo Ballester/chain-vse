{
 "cells": [
  {
   "cell_type": "code",
   "execution_count": 1,
   "metadata": {
    "collapsed": true
   },
   "outputs": [],
   "source": [
    "import numpy as np"
   ]
  },
  {
   "cell_type": "code",
   "execution_count": 2,
   "metadata": {},
   "outputs": [
    {
     "name": "stdout",
     "output_type": "stream",
     "text": [
      "1\n",
      "Done\n"
     ]
    }
   ],
   "source": [
    "import numpy as np \n",
    "from sklearn.preprocessing import StandardScaler \n",
    "from timeit import default_timer as dt \n",
    "\n",
    "begin = dt()\n",
    "print('1')\n",
    "train = np.load('/A/VSE/data/coco_tensor_precomp/train_ims.npy')\n",
    "end = begin - dt()\n",
    "print('Done')\n"
   ]
  },
  {
   "cell_type": "code",
   "execution_count": 4,
   "metadata": {},
   "outputs": [
    {
     "name": "stdout",
     "output_type": "stream",
     "text": [
      "(113287, 2048, 8, 8)\n"
     ]
    }
   ],
   "source": [
    "print(train.shape)"
   ]
  },
  {
   "cell_type": "code",
   "execution_count": 5,
   "metadata": {},
   "outputs": [
    {
     "name": "stdout",
     "output_type": "stream",
     "text": [
      "(113287, 2048)\n",
      "2\n"
     ]
    }
   ],
   "source": [
    "\n",
    "train = train.mean(-1).mean(-1)\n",
    "scaler = StandardScaler()\n",
    "train = scaler.fit_transform(train)\n",
    "print(train.shape)\n",
    "print('2')"
   ]
  },
  {
   "cell_type": "code",
   "execution_count": 10,
   "metadata": {},
   "outputs": [],
   "source": [
    "def print_check(x):\n",
    "    print(x.min(), x.max(), x.mean(), x.std())"
   ]
  },
  {
   "cell_type": "code",
   "execution_count": 11,
   "metadata": {},
   "outputs": [
    {
     "name": "stdout",
     "output_type": "stream",
     "text": [
      "(-2.6283743, 18.073317, 3.715287e-08, 1.0000072)\n"
     ]
    }
   ],
   "source": [
    "print_check(train)"
   ]
  },
  {
   "cell_type": "code",
   "execution_count": 6,
   "metadata": {},
   "outputs": [
    {
     "name": "stdout",
     "output_type": "stream",
     "text": [
      "(5000, 2048)\n",
      "3\n"
     ]
    }
   ],
   "source": [
    "\n",
    "valid = np.load('/A/VSE/data/coco_tensor_precomp/val_ims.npy')\n",
    "valid = valid.mean(-1).mean(-1)\n",
    "valid = scaler.transform(valid)\n",
    "print(valid.shape)\n",
    "print('3')"
   ]
  },
  {
   "cell_type": "code",
   "execution_count": 12,
   "metadata": {},
   "outputs": [
    {
     "name": "stdout",
     "output_type": "stream",
     "text": [
      "(-2.698263, 16.928457, 0.002879407, 1.0007614)\n"
     ]
    }
   ],
   "source": [
    "print_check(valid)"
   ]
  },
  {
   "cell_type": "code",
   "execution_count": 13,
   "metadata": {},
   "outputs": [
    {
     "name": "stdout",
     "output_type": "stream",
     "text": [
      "(5000, 2048)\n",
      "4\n"
     ]
    }
   ],
   "source": [
    "\n",
    "test = np.load('/A/VSE/data/coco_tensor_precomp/test_ims.npy')\n",
    "test = test.mean(-1).mean(-1)\n",
    "test = scaler.transform(test)\n",
    "print(test.shape)\n",
    "print('4')\n",
    "\n"
   ]
  },
  {
   "cell_type": "code",
   "execution_count": 15,
   "metadata": {},
   "outputs": [
    {
     "name": "stdout",
     "output_type": "stream",
     "text": [
      "(-2.5535562, 15.656265, 0.0026304876, 1.0040653)\n"
     ]
    }
   ],
   "source": [
    "print_check(test)"
   ]
  },
  {
   "cell_type": "code",
   "execution_count": 16,
   "metadata": {},
   "outputs": [
    {
     "name": "stdout",
     "output_type": "stream",
     "text": [
      "(29000, 2048)\n",
      "7\n"
     ]
    }
   ],
   "source": [
    "\n",
    "ftrain = np.load('/A/VSE/data/f30k_tensor_precomp/train_ims.npy')\n",
    "ftrain = ftrain.mean(-1).mean(-1)\n",
    "ftrain = scaler.transform(ftrain)\n",
    "print(ftrain.shape)\n",
    "print('7')\n"
   ]
  },
  {
   "cell_type": "code",
   "execution_count": 17,
   "metadata": {},
   "outputs": [
    {
     "name": "stdout",
     "output_type": "stream",
     "text": [
      "(-2.475398, 15.342722, 0.009708049, 0.9103464)\n"
     ]
    }
   ],
   "source": [
    "print_check(ftrain)"
   ]
  },
  {
   "cell_type": "code",
   "execution_count": 18,
   "metadata": {},
   "outputs": [
    {
     "name": "stdout",
     "output_type": "stream",
     "text": [
      "(1014, 2048)\n",
      "6\n"
     ]
    }
   ],
   "source": [
    "\n",
    "fval = np.load('/A/VSE/data/f30k_tensor_precomp/val_ims.npy')\n",
    "fval = fval.mean(-1).mean(-1)\n",
    "fval = scaler.transform(fval)\n",
    "print(fval.shape)\n",
    "print('6')\n"
   ]
  },
  {
   "cell_type": "code",
   "execution_count": 19,
   "metadata": {},
   "outputs": [
    {
     "name": "stdout",
     "output_type": "stream",
     "text": [
      "(-2.1662712, 12.094027, 0.0074259713, 0.9018897)\n"
     ]
    }
   ],
   "source": [
    "print_check(fval)"
   ]
  },
  {
   "cell_type": "code",
   "execution_count": 20,
   "metadata": {},
   "outputs": [
    {
     "name": "stdout",
     "output_type": "stream",
     "text": [
      "(1000, 2048)\n",
      "5\n"
     ]
    }
   ],
   "source": [
    "\n",
    "ftest = np.load('/A/VSE/data/f30k_tensor_precomp/test_ims.npy')\n",
    "ftest = ftest.mean(-1).mean(-1)\n",
    "ftest = scaler.transform(ftest)\n",
    "print(ftest.shape)\n",
    "print('5')\n"
   ]
  },
  {
   "cell_type": "code",
   "execution_count": 21,
   "metadata": {},
   "outputs": [
    {
     "name": "stdout",
     "output_type": "stream",
     "text": [
      "(-2.2062194, 12.148949, 0.0044250893, 0.90655285)\n"
     ]
    }
   ],
   "source": [
    "print_check(ftest)"
   ]
  },
  {
   "cell_type": "code",
   "execution_count": 22,
   "metadata": {
    "collapsed": true
   },
   "outputs": [],
   "source": [
    "\n",
    "np.save('/A/VSE/data/coco_precomp/train_ims.npy', train)\n",
    "np.save('/A/VSE/data/coco_precomp/val_ims.npy', valid)\n",
    "np.save('/A/VSE/data/coco_precomp/test_ims.npy', test)\n"
   ]
  },
  {
   "cell_type": "code",
   "execution_count": 23,
   "metadata": {
    "collapsed": true
   },
   "outputs": [],
   "source": [
    "\n",
    "np.save('/A/VSE/data/f30k_precomp/train_ims.npy', ftrain)\n",
    "np.save('/A/VSE/data/f30k_precomp/val_ims.npy', fval)\n",
    "np.save('/A/VSE/data/f30k_precomp/test_ims.npy', ftest)\n"
   ]
  },
  {
   "cell_type": "code",
   "execution_count": 24,
   "metadata": {
    "collapsed": true
   },
   "outputs": [],
   "source": [
    "import pickle"
   ]
  },
  {
   "cell_type": "code",
   "execution_count": 27,
   "metadata": {},
   "outputs": [],
   "source": [
    "with open('/A/VSE/data/f30k_precomp/scaler.pkl', 'w') as fp:\n",
    "    pickle.dump(scaler, fp)"
   ]
  }
 ],
 "metadata": {
  "kernelspec": {
   "display_name": "Python 2",
   "language": "python",
   "name": "python2"
  },
  "language_info": {
   "codemirror_mode": {
    "name": "ipython",
    "version": 2
   },
   "file_extension": ".py",
   "mimetype": "text/x-python",
   "name": "python",
   "nbconvert_exporter": "python",
   "pygments_lexer": "ipython2",
   "version": "2.7.13"
  }
 },
 "nbformat": 4,
 "nbformat_minor": 2
}
